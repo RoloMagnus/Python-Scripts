{
 "cells": [
  {
   "cell_type": "code",
   "execution_count": 2,
   "id": "28242cc6",
   "metadata": {},
   "outputs": [],
   "source": [
    "#!pip install pyodbc"
   ]
  },
  {
   "cell_type": "code",
   "execution_count": 3,
   "id": "59236aae",
   "metadata": {},
   "outputs": [],
   "source": [
    "import pyodbc\n",
    "import pandas as pd"
   ]
  },
  {
   "cell_type": "code",
   "execution_count": 4,
   "id": "a3d0bfad",
   "metadata": {},
   "outputs": [],
   "source": [
    "uid = 'etl'\n",
    "pwd = 'demopass'\n",
    "driver = \"{SQL Server Native Client 11.0}\"\n",
    "server = \"localhost\"\n",
    "database = \"AdventureWorksDW2019;\""
   ]
  },
  {
   "cell_type": "code",
   "execution_count": 5,
   "id": "bc52cf18",
   "metadata": {},
   "outputs": [],
   "source": [
    "conn = pyodbc.connect('DRIVER=' + driver + ';SERVER=' + server + '\\SQLEXPRESS' + \n",
    "                      ';DATABASE=' + database + ';UID=' + uid + ';PWD=' + pwd)"
   ]
  },
  {
   "cell_type": "code",
   "execution_count": 6,
   "id": "1ebd7e27",
   "metadata": {},
   "outputs": [],
   "source": [
    "sql = \"SELECT * FROM [dbo].[DimProductCategory]\""
   ]
  },
  {
   "cell_type": "code",
   "execution_count": 7,
   "id": "daa6018e",
   "metadata": {},
   "outputs": [
    {
     "data": {
      "text/html": [
       "<div>\n",
       "<style scoped>\n",
       "    .dataframe tbody tr th:only-of-type {\n",
       "        vertical-align: middle;\n",
       "    }\n",
       "\n",
       "    .dataframe tbody tr th {\n",
       "        vertical-align: top;\n",
       "    }\n",
       "\n",
       "    .dataframe thead th {\n",
       "        text-align: right;\n",
       "    }\n",
       "</style>\n",
       "<table border=\"1\" class=\"dataframe\">\n",
       "  <thead>\n",
       "    <tr style=\"text-align: right;\">\n",
       "      <th></th>\n",
       "      <th>ProductCategoryKey</th>\n",
       "      <th>ProductCategoryAlternateKey</th>\n",
       "      <th>EnglishProductCategoryName</th>\n",
       "      <th>SpanishProductCategoryName</th>\n",
       "      <th>FrenchProductCategoryName</th>\n",
       "    </tr>\n",
       "  </thead>\n",
       "  <tbody>\n",
       "    <tr>\n",
       "      <th>0</th>\n",
       "      <td>1</td>\n",
       "      <td>1</td>\n",
       "      <td>Bikes</td>\n",
       "      <td>Bicicleta</td>\n",
       "      <td>Vélo</td>\n",
       "    </tr>\n",
       "    <tr>\n",
       "      <th>1</th>\n",
       "      <td>2</td>\n",
       "      <td>2</td>\n",
       "      <td>Components</td>\n",
       "      <td>Componente</td>\n",
       "      <td>Composant</td>\n",
       "    </tr>\n",
       "    <tr>\n",
       "      <th>2</th>\n",
       "      <td>3</td>\n",
       "      <td>3</td>\n",
       "      <td>Clothing</td>\n",
       "      <td>Prenda</td>\n",
       "      <td>Vêtements</td>\n",
       "    </tr>\n",
       "    <tr>\n",
       "      <th>3</th>\n",
       "      <td>4</td>\n",
       "      <td>4</td>\n",
       "      <td>Accessories</td>\n",
       "      <td>Accesorio</td>\n",
       "      <td>Accessoire</td>\n",
       "    </tr>\n",
       "  </tbody>\n",
       "</table>\n",
       "</div>"
      ],
      "text/plain": [
       "   ProductCategoryKey  ProductCategoryAlternateKey EnglishProductCategoryName  \\\n",
       "0                   1                            1                      Bikes   \n",
       "1                   2                            2                 Components   \n",
       "2                   3                            3                   Clothing   \n",
       "3                   4                            4                Accessories   \n",
       "\n",
       "  SpanishProductCategoryName FrenchProductCategoryName  \n",
       "0                  Bicicleta                      Vélo  \n",
       "1                 Componente                 Composant  \n",
       "2                     Prenda                 Vêtements  \n",
       "3                  Accesorio                Accessoire  "
      ]
     },
     "execution_count": 7,
     "metadata": {},
     "output_type": "execute_result"
    }
   ],
   "source": [
    "df = pd.read_sql_query(sql, conn)\n",
    "df.head()"
   ]
  },
  {
   "cell_type": "code",
   "execution_count": null,
   "id": "67339d91",
   "metadata": {},
   "outputs": [],
   "source": []
  }
 ],
 "metadata": {
  "kernelspec": {
   "display_name": "Python 3 (ipykernel)",
   "language": "python",
   "name": "python3"
  },
  "language_info": {
   "codemirror_mode": {
    "name": "ipython",
    "version": 3
   },
   "file_extension": ".py",
   "mimetype": "text/x-python",
   "name": "python",
   "nbconvert_exporter": "python",
   "pygments_lexer": "ipython3",
   "version": "3.9.7"
  }
 },
 "nbformat": 4,
 "nbformat_minor": 5
}
